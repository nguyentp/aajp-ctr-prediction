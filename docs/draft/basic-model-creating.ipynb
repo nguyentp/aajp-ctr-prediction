{
 "cells": [
  {
   "cell_type": "code",
   "execution_count": 1,
   "metadata": {
    "ExecuteTime": {
     "end_time": "2020-04-05T03:16:11.260141Z",
     "start_time": "2020-04-05T03:16:06.697818Z"
    }
   },
   "outputs": [
    {
     "data": {
      "text/plain": [
       "[]"
      ]
     },
     "execution_count": 1,
     "metadata": {},
     "output_type": "execute_result"
    }
   ],
   "source": [
    "import tensorflow as tf\n",
    "tf.config.list_physical_devices('GPU')"
   ]
  },
  {
   "cell_type": "markdown",
   "metadata": {},
   "source": [
    "# Model with Keras Functional API\n",
    "\n",
    "Functional API gives a lot of flexibility like: Multi-Input and Multi-Output model, Non-Sequential model, etc.\n",
    "\n",
    "- `tf.keras.layers`: Devine layers to create model. Each layer is Callable object. It takes input tensor and return a tensor.\n",
    "- `tf.keras.Input`: Defind input placeholder. Need to provide dimension of input data.\n",
    "- `tf.keras.Model`: Take Input placeholder and Output Layer then return a Model.\n",
    "\n",
    "Lets build a simple FCN with 2 layers and 10 output units."
   ]
  },
  {
   "cell_type": "code",
   "execution_count": 2,
   "metadata": {
    "ExecuteTime": {
     "end_time": "2020-04-05T03:17:08.256499Z",
     "start_time": "2020-04-05T03:17:08.063007Z"
    }
   },
   "outputs": [],
   "source": [
    "inputs = tf.keras.Input(shape=(32,))  # Input shape: n_sample x 32 features\n",
    "x = tf.keras.layers.Dense(64, activation='relu')(inputs)\n",
    "x = tf.keras.layers.Dense(64, activation='relu')(x)\n",
    "y = tf.keras.layers.Dense(10, activation='sigmoid')(x)\n",
    "model = tf.keras.Model(inputs=inputs, outputs=y)"
   ]
  },
  {
   "cell_type": "code",
   "execution_count": 3,
   "metadata": {
    "ExecuteTime": {
     "end_time": "2020-04-05T03:17:18.293544Z",
     "start_time": "2020-04-05T03:17:18.258954Z"
    }
   },
   "outputs": [
    {
     "name": "stdout",
     "output_type": "stream",
     "text": [
      "Model: \"model\"\n",
      "_________________________________________________________________\n",
      "Layer (type)                 Output Shape              Param #   \n",
      "=================================================================\n",
      "input_1 (InputLayer)         [(None, 32)]              0         \n",
      "_________________________________________________________________\n",
      "dense (Dense)                (None, 64)                2112      \n",
      "_________________________________________________________________\n",
      "dense_1 (Dense)              (None, 64)                4160      \n",
      "_________________________________________________________________\n",
      "dense_2 (Dense)              (None, 10)                650       \n",
      "=================================================================\n",
      "Total params: 6,922\n",
      "Trainable params: 6,922\n",
      "Non-trainable params: 0\n",
      "_________________________________________________________________\n"
     ]
    }
   ],
   "source": [
    "model.summary()"
   ]
  },
  {
   "cell_type": "code",
   "execution_count": 4,
   "metadata": {
    "ExecuteTime": {
     "end_time": "2020-04-05T03:17:18.704398Z",
     "start_time": "2020-04-05T03:17:18.594237Z"
    }
   },
   "outputs": [],
   "source": [
    "opt = tf.keras.optimizers.Adam(learning_rate=0.01)\n",
    "loss = tf.keras.losses.CategoricalCrossentropy(from_logits=False)\n",
    "metrics = ['accuracy']\n",
    "model.compile(optimizer=opt, loss=loss, metrics=metrics)"
   ]
  },
  {
   "cell_type": "markdown",
   "metadata": {},
   "source": [
    "Lets cook some data to test if this works. Then train model on dummy data."
   ]
  },
  {
   "cell_type": "code",
   "execution_count": 5,
   "metadata": {
    "ExecuteTime": {
     "end_time": "2020-04-05T03:17:20.030730Z",
     "start_time": "2020-04-05T03:17:20.013580Z"
    }
   },
   "outputs": [],
   "source": [
    "import numpy as np\n",
    "\n",
    "data = np.random.random((1000, 32))\n",
    "labels = np.random.random((1000, 10))\n",
    "\n",
    "val_data = np.random.random((100, 32))\n",
    "val_labels = np.random.random((100, 10))"
   ]
  },
  {
   "cell_type": "code",
   "execution_count": 6,
   "metadata": {
    "ExecuteTime": {
     "end_time": "2020-04-05T03:17:24.268733Z",
     "start_time": "2020-04-05T03:17:20.324072Z"
    }
   },
   "outputs": [
    {
     "name": "stdout",
     "output_type": "stream",
     "text": [
      "Train on 1000 samples, validate on 100 samples\n",
      "Epoch 1/10\n",
      "1000/1000 [==============================] - 1s 1ms/sample - loss: 11.5768 - accuracy: 0.0960 - val_loss: 11.5768 - val_accuracy: 0.0600\n",
      "Epoch 2/10\n",
      "1000/1000 [==============================] - 0s 237us/sample - loss: 11.5643 - accuracy: 0.0910 - val_loss: 11.5755 - val_accuracy: 0.0800\n",
      "Epoch 3/10\n",
      "1000/1000 [==============================] - 0s 286us/sample - loss: 11.5626 - accuracy: 0.1170 - val_loss: 11.5772 - val_accuracy: 0.0800\n",
      "Epoch 4/10\n",
      "1000/1000 [==============================] - 0s 229us/sample - loss: 11.5623 - accuracy: 0.1080 - val_loss: 11.5778 - val_accuracy: 0.1100\n",
      "Epoch 5/10\n",
      "1000/1000 [==============================] - 0s 229us/sample - loss: 11.5616 - accuracy: 0.1210 - val_loss: 11.5766 - val_accuracy: 0.0800\n",
      "Epoch 6/10\n",
      "1000/1000 [==============================] - 0s 291us/sample - loss: 11.5582 - accuracy: 0.1470 - val_loss: 11.5812 - val_accuracy: 0.0700\n",
      "Epoch 7/10\n",
      "1000/1000 [==============================] - 0s 282us/sample - loss: 11.5571 - accuracy: 0.1130 - val_loss: 11.5844 - val_accuracy: 0.0800\n",
      "Epoch 8/10\n",
      "1000/1000 [==============================] - 0s 287us/sample - loss: 11.5537 - accuracy: 0.1290 - val_loss: 11.5819 - val_accuracy: 0.0800\n",
      "Epoch 9/10\n",
      "1000/1000 [==============================] - 0s 309us/sample - loss: 11.5541 - accuracy: 0.1340 - val_loss: 11.5777 - val_accuracy: 0.1000\n",
      "Epoch 10/10\n",
      "1000/1000 [==============================] - 0s 379us/sample - loss: 11.5495 - accuracy: 0.1430 - val_loss: 11.5808 - val_accuracy: 0.0700\n"
     ]
    },
    {
     "data": {
      "text/plain": [
       "<tensorflow.python.keras.callbacks.History at 0x7fe0a04e6080>"
      ]
     },
     "execution_count": 6,
     "metadata": {},
     "output_type": "execute_result"
    }
   ],
   "source": [
    "model.fit(data, labels, epochs=10, batch_size=32,\n",
    "          validation_data=(val_data, val_labels))"
   ]
  },
  {
   "cell_type": "markdown",
   "metadata": {},
   "source": [
    "To make prediction, just simply call `predict` function."
   ]
  },
  {
   "cell_type": "code",
   "execution_count": 7,
   "metadata": {
    "ExecuteTime": {
     "end_time": "2020-04-05T03:17:24.461643Z",
     "start_time": "2020-04-05T03:17:24.281240Z"
    }
   },
   "outputs": [],
   "source": [
    "val_pred = model.predict(val_data)"
   ]
  },
  {
   "cell_type": "code",
   "execution_count": 8,
   "metadata": {
    "ExecuteTime": {
     "end_time": "2020-04-05T03:17:24.497488Z",
     "start_time": "2020-04-05T03:17:24.475628Z"
    }
   },
   "outputs": [
    {
     "data": {
      "text/plain": [
       "(100, 10)"
      ]
     },
     "execution_count": 8,
     "metadata": {},
     "output_type": "execute_result"
    }
   ],
   "source": [
    "val_pred.shape"
   ]
  },
  {
   "cell_type": "code",
   "execution_count": 9,
   "metadata": {
    "ExecuteTime": {
     "end_time": "2020-04-05T03:17:24.594449Z",
     "start_time": "2020-04-05T03:17:24.545336Z"
    }
   },
   "outputs": [
    {
     "data": {
      "text/plain": [
       "array([[0.5433044 , 0.53207   , 0.52619827, 0.49454835, 0.5145661 ,\n",
       "        0.4734469 , 0.4389014 , 0.5217423 , 0.53398573, 0.54983544],\n",
       "       [0.5032129 , 0.46517012, 0.56516147, 0.56238633, 0.39433834,\n",
       "        0.5217385 , 0.47368962, 0.55531204, 0.4832793 , 0.59997207],\n",
       "       [0.54781497, 0.5588869 , 0.5316051 , 0.4838442 , 0.5425331 ,\n",
       "        0.5947191 , 0.48622772, 0.5588054 , 0.44471452, 0.54464275]],\n",
       "      dtype=float32)"
      ]
     },
     "execution_count": 9,
     "metadata": {},
     "output_type": "execute_result"
    }
   ],
   "source": [
    "val_pred[:3, :]"
   ]
  },
  {
   "cell_type": "markdown",
   "metadata": {},
   "source": [
    "# How to export a trained model\n",
    "\n",
    "Tensorflow supports severl export methods like: Export as HDF5, Export as Tensorflow format which later can be used by Tensorflow Serving, export model's weights only as Numpy array, export model's architecture only.\n",
    "\n",
    "Lets export model as Tensorflow format first. Then recreate model from saved file. Then check if 2 models version give same prediction on same input."
   ]
  },
  {
   "cell_type": "code",
   "execution_count": 10,
   "metadata": {
    "ExecuteTime": {
     "end_time": "2020-04-05T03:17:53.127184Z",
     "start_time": "2020-04-05T03:17:53.114478Z"
    }
   },
   "outputs": [],
   "source": [
    "# From Tensorflow:\n",
    "# Reset metrics before saving so that loaded model has same state,\n",
    "# since metric states are not preserved by Model.save_weights\n",
    "model.reset_metrics()"
   ]
  },
  {
   "cell_type": "code",
   "execution_count": 11,
   "metadata": {
    "ExecuteTime": {
     "end_time": "2020-04-05T03:17:54.242452Z",
     "start_time": "2020-04-05T03:17:53.406580Z"
    }
   },
   "outputs": [],
   "source": [
    "!mkdir -p ./temp"
   ]
  },
  {
   "cell_type": "code",
   "execution_count": 12,
   "metadata": {
    "ExecuteTime": {
     "end_time": "2020-04-05T03:17:55.560972Z",
     "start_time": "2020-04-05T03:17:54.245446Z"
    }
   },
   "outputs": [
    {
     "name": "stdout",
     "output_type": "stream",
     "text": [
      "WARNING:tensorflow:From /usr/local/lib/python3.6/site-packages/tensorflow_core/python/ops/resource_variable_ops.py:1786: calling BaseResourceVariable.__init__ (from tensorflow.python.ops.resource_variable_ops) with constraint is deprecated and will be removed in a future version.\n",
      "Instructions for updating:\n",
      "If using Keras pass *_constraint arguments to layers.\n",
      "INFO:tensorflow:Assets written to: ./temp/model/assets\n"
     ]
    }
   ],
   "source": [
    "model.save('./temp/model', save_format='tf')"
   ]
  },
  {
   "cell_type": "code",
   "execution_count": 13,
   "metadata": {
    "ExecuteTime": {
     "end_time": "2020-04-05T03:17:56.490630Z",
     "start_time": "2020-04-05T03:17:55.578751Z"
    }
   },
   "outputs": [
    {
     "name": "stdout",
     "output_type": "stream",
     "text": [
      "model\r\n"
     ]
    }
   ],
   "source": [
    "!ls ./temp"
   ]
  },
  {
   "cell_type": "code",
   "execution_count": 14,
   "metadata": {
    "ExecuteTime": {
     "end_time": "2020-04-05T03:17:57.591009Z",
     "start_time": "2020-04-05T03:17:56.495151Z"
    }
   },
   "outputs": [],
   "source": [
    "deployed_model = tf.keras.models.load_model('./temp/model')"
   ]
  },
  {
   "cell_type": "code",
   "execution_count": 15,
   "metadata": {
    "ExecuteTime": {
     "end_time": "2020-04-05T03:17:59.658032Z",
     "start_time": "2020-04-05T03:17:59.493150Z"
    }
   },
   "outputs": [
    {
     "data": {
      "text/plain": [
       "(100, 10)"
      ]
     },
     "execution_count": 15,
     "metadata": {},
     "output_type": "execute_result"
    }
   ],
   "source": [
    "new_val_pred = deployed_model.predict(val_data)\n",
    "new_val_pred.shape"
   ]
  },
  {
   "cell_type": "code",
   "execution_count": 16,
   "metadata": {
    "ExecuteTime": {
     "end_time": "2020-04-05T03:18:00.105723Z",
     "start_time": "2020-04-05T03:18:00.080906Z"
    }
   },
   "outputs": [],
   "source": [
    "np.testing.assert_allclose(val_pred, new_val_pred, rtol=1e-6, atol=1e-6)"
   ]
  },
  {
   "cell_type": "markdown",
   "metadata": {},
   "source": [
    "Export model as Tensorflow format also keeps optimizer state. We can use this model and continue to train it on new data."
   ]
  },
  {
   "cell_type": "markdown",
   "metadata": {},
   "source": [
    "# Feed data into model\n",
    "\n",
    "## Dataset\n",
    "\n",
    "If input data fit well on Memory, the easy way to feed data into Model is just call `fit` function on data.\n",
    "\n",
    "However, sometime we want to do some transformation on input data like: batching, shuffling, etc., we should use `tf.data` API. As this API provide a lot of functions to deal with various data formats and transformation.\n",
    "\n",
    "Key Data Structure to know is `tf.data.Dataset`. It supports reading input data from source, apply transformation and a way to iterate over elements.\n",
    "\n",
    "Lets start by making a Dataset from numpy array."
   ]
  },
  {
   "cell_type": "code",
   "execution_count": 17,
   "metadata": {
    "ExecuteTime": {
     "end_time": "2020-04-05T03:19:05.436471Z",
     "start_time": "2020-04-05T03:19:05.408866Z"
    }
   },
   "outputs": [
    {
     "data": {
      "text/plain": [
       "<TensorSliceDataset shapes: (2,), types: tf.float64>"
      ]
     },
     "execution_count": 17,
     "metadata": {},
     "output_type": "execute_result"
    }
   ],
   "source": [
    "dataset = tf.data.Dataset.from_tensor_slices(np.random.random((5, 2)))\n",
    "dataset"
   ]
  },
  {
   "cell_type": "code",
   "execution_count": 18,
   "metadata": {
    "ExecuteTime": {
     "end_time": "2020-04-05T03:19:06.836015Z",
     "start_time": "2020-04-05T03:19:06.780781Z"
    }
   },
   "outputs": [
    {
     "name": "stdout",
     "output_type": "stream",
     "text": [
      "tf.Tensor([0.30119929 0.9186914 ], shape=(2,), dtype=float64)\n",
      "tf.Tensor([0.33149118 0.34305358], shape=(2,), dtype=float64)\n",
      "tf.Tensor([0.02524145 0.60788564], shape=(2,), dtype=float64)\n",
      "tf.Tensor([0.24681797 0.96657151], shape=(2,), dtype=float64)\n",
      "tf.Tensor([0.57920191 0.29299168], shape=(2,), dtype=float64)\n"
     ]
    }
   ],
   "source": [
    "for element in dataset:\n",
    "    print(element)"
   ]
  },
  {
   "cell_type": "markdown",
   "metadata": {},
   "source": [
    "Lets make a bigger dataset to test transformation. We will create 500 sample datasets. Instead of reading each element, we read 32 samples in a batch, and repeat for 3 epochs. Beside that, we also make some shuffling input data."
   ]
  },
  {
   "cell_type": "code",
   "execution_count": 19,
   "metadata": {
    "ExecuteTime": {
     "end_time": "2020-04-05T03:19:56.139537Z",
     "start_time": "2020-04-05T03:19:56.128537Z"
    }
   },
   "outputs": [
    {
     "data": {
      "text/plain": [
       "<TensorSliceDataset shapes: (2,), types: tf.float64>"
      ]
     },
     "execution_count": 19,
     "metadata": {},
     "output_type": "execute_result"
    }
   ],
   "source": [
    "dataset = tf.data.Dataset.from_tensor_slices(np.random.random((500, 2)))\n",
    "dataset"
   ]
  },
  {
   "cell_type": "code",
   "execution_count": 20,
   "metadata": {
    "ExecuteTime": {
     "end_time": "2020-04-05T03:20:09.204189Z",
     "start_time": "2020-04-05T03:20:09.180042Z"
    }
   },
   "outputs": [
    {
     "data": {
      "text/plain": [
       "<RepeatDataset shapes: (None, 2), types: tf.float64>"
      ]
     },
     "execution_count": 20,
     "metadata": {},
     "output_type": "execute_result"
    }
   ],
   "source": [
    "shuffle_sz = 100\n",
    "batch_sz = 32\n",
    "n_epochs = 3\n",
    "dataset = dataset.shuffle(shuffle_sz).batch(batch_sz).repeat(n_epochs)\n",
    "dataset"
   ]
  },
  {
   "cell_type": "markdown",
   "metadata": {},
   "source": [
    "Inspect the output of dataset. Just take 1 batch and confirm the number of sample is 32 and number of features is 2."
   ]
  },
  {
   "cell_type": "code",
   "execution_count": 21,
   "metadata": {
    "ExecuteTime": {
     "end_time": "2020-04-05T03:20:14.692439Z",
     "start_time": "2020-04-05T03:20:14.659555Z"
    }
   },
   "outputs": [],
   "source": [
    "for data in dataset.take(1):\n",
    "    break"
   ]
  },
  {
   "cell_type": "code",
   "execution_count": 22,
   "metadata": {
    "ExecuteTime": {
     "end_time": "2020-04-05T03:20:15.704994Z",
     "start_time": "2020-04-05T03:20:15.691099Z"
    }
   },
   "outputs": [
    {
     "data": {
      "text/plain": [
       "TensorShape([32, 2])"
      ]
     },
     "execution_count": 22,
     "metadata": {},
     "output_type": "execute_result"
    }
   ],
   "source": [
    "data.shape"
   ]
  },
  {
   "cell_type": "code",
   "execution_count": 23,
   "metadata": {
    "ExecuteTime": {
     "end_time": "2020-04-05T03:20:16.475742Z",
     "start_time": "2020-04-05T03:20:16.453352Z"
    }
   },
   "outputs": [
    {
     "data": {
      "text/plain": [
       "<tf.Tensor: shape=(32, 2), dtype=float64, numpy=\n",
       "array([[0.78476127, 0.9730055 ],\n",
       "       [0.05487506, 0.48777445],\n",
       "       [0.04188906, 0.14167223],\n",
       "       [0.97178323, 0.32838761],\n",
       "       [0.30653912, 0.98024528],\n",
       "       [0.45081555, 0.12278334],\n",
       "       [0.01059869, 0.15662154],\n",
       "       [0.74778029, 0.91978481],\n",
       "       [0.17837831, 0.42350351],\n",
       "       [0.39130799, 0.11854122],\n",
       "       [0.67327952, 0.83489706],\n",
       "       [0.08303975, 0.52951504],\n",
       "       [0.17876153, 0.37055573],\n",
       "       [0.1312979 , 0.97822332],\n",
       "       [0.34868595, 0.1095313 ],\n",
       "       [0.8120671 , 0.52496514],\n",
       "       [0.07417451, 0.50987169],\n",
       "       [0.53942034, 0.06101324],\n",
       "       [0.41219032, 0.11949338],\n",
       "       [0.06813085, 0.43337402],\n",
       "       [0.1196409 , 0.73272511],\n",
       "       [0.49920861, 0.04781624],\n",
       "       [0.11695124, 0.52681623],\n",
       "       [0.68876446, 0.34329967],\n",
       "       [0.42922652, 0.90481399],\n",
       "       [0.19912923, 0.56439666],\n",
       "       [0.97466749, 0.34463219],\n",
       "       [0.85192938, 0.90415445],\n",
       "       [0.58065286, 0.5657891 ],\n",
       "       [0.03244843, 0.14427753],\n",
       "       [0.42198933, 0.81210568],\n",
       "       [0.86503309, 0.11364075]])>"
      ]
     },
     "execution_count": 23,
     "metadata": {},
     "output_type": "execute_result"
    }
   ],
   "source": [
    "data"
   ]
  },
  {
   "cell_type": "markdown",
   "metadata": {},
   "source": [
    "## Sparsed Dataset"
   ]
  },
  {
   "cell_type": "markdown",
   "metadata": {},
   "source": [
    "When data is sparsed, turning data into Densed numpy array before making a Dataset is not a good way. Most of the time, we will run out of memory. A better way is to create a `SparsedTensor` then feed this tensor to Dataset. \n",
    "\n",
    "`SparsedTensor` take 3 inputs:\n",
    "\n",
    "1. Cordinate where value exists.\n",
    "2. Value to fill into above cordinates.\n",
    "3. Dense shape.\n",
    "\n",
    "For example, in below densed matrix,\n",
    "\n",
    "```\n",
    "col = 0  1  2  3\n",
    "r0  [[1, 0, 0, 0]\n",
    "r    [0, 0, 2, 0]\n",
    "r    [0, 3, 0, 4]]\n",
    "```\n",
    "\n",
    "the input will be:\n",
    "\n",
    "1. `row 0, col 0`, `row 1, col 2`, `row 2, col 1`, `row 2, col3` have values.\n",
    "2. Values to fill are: `1, 2, 3, 4`\n",
    "3. Densed shape is: `3 rows, 4 cols`\n",
    "\n",
    "Lets make a `SparsedTensor` from above matrix. Then create a Dataset from it."
   ]
  },
  {
   "cell_type": "code",
   "execution_count": 24,
   "metadata": {
    "ExecuteTime": {
     "end_time": "2020-04-05T03:22:47.746629Z",
     "start_time": "2020-04-05T03:22:47.716058Z"
    }
   },
   "outputs": [
    {
     "data": {
      "text/plain": [
       "<tensorflow.python.framework.sparse_tensor.SparseTensor at 0x7fe0883aa828>"
      ]
     },
     "execution_count": 24,
     "metadata": {},
     "output_type": "execute_result"
    }
   ],
   "source": [
    "tensor = tf.sparse.SparseTensor(\n",
    "    indices=[[0, 0], [1, 2], [2, 1], [2, 3]],\n",
    "    values=[1, 2, 3, 4],\n",
    "    dense_shape=[3, 4])\n",
    "tensor"
   ]
  },
  {
   "cell_type": "code",
   "execution_count": 25,
   "metadata": {
    "ExecuteTime": {
     "end_time": "2020-04-05T03:22:53.413766Z",
     "start_time": "2020-04-05T03:22:53.361383Z"
    }
   },
   "outputs": [
    {
     "data": {
      "text/plain": [
       "<TensorSliceDataset shapes: (4,), types: tf.int32>"
      ]
     },
     "execution_count": 25,
     "metadata": {},
     "output_type": "execute_result"
    }
   ],
   "source": [
    "sparse_ds = tf.data.Dataset.from_tensor_slices(tensor)\n",
    "sparse_ds"
   ]
  },
  {
   "cell_type": "code",
   "execution_count": 26,
   "metadata": {
    "ExecuteTime": {
     "end_time": "2020-04-05T03:22:55.013636Z",
     "start_time": "2020-04-05T03:22:54.968841Z"
    }
   },
   "outputs": [
    {
     "name": "stdout",
     "output_type": "stream",
     "text": [
      "SparseTensor(indices=tf.Tensor([[0]], shape=(1, 1), dtype=int64), values=tf.Tensor([1], shape=(1,), dtype=int32), dense_shape=tf.Tensor([4], shape=(1,), dtype=int64))\n",
      "\n",
      "SparseTensor(indices=tf.Tensor([[2]], shape=(1, 1), dtype=int64), values=tf.Tensor([2], shape=(1,), dtype=int32), dense_shape=tf.Tensor([4], shape=(1,), dtype=int64))\n",
      "\n",
      "SparseTensor(indices=tf.Tensor(\n",
      "[[1]\n",
      " [3]], shape=(2, 1), dtype=int64), values=tf.Tensor([3 4], shape=(2,), dtype=int32), dense_shape=tf.Tensor([4], shape=(1,), dtype=int64))\n",
      "\n"
     ]
    }
   ],
   "source": [
    "for element in sparse_ds:\n",
    "    print(element, end='\\n\\n')"
   ]
  },
  {
   "cell_type": "markdown",
   "metadata": {},
   "source": [
    "Another way is to create `SparsedTensor` from `scipy.sparse` data. Lets create a sparse data as below:\n",
    "\n",
    "- `4 at (0, 0)`\n",
    "- `5 at (3, 3)`\n",
    "- `7 at (3, 1)`\n",
    "- `9 at (2, 2)`"
   ]
  },
  {
   "cell_type": "code",
   "execution_count": 29,
   "metadata": {
    "ExecuteTime": {
     "end_time": "2020-04-05T03:25:15.376998Z",
     "start_time": "2020-04-05T03:25:15.344399Z"
    }
   },
   "outputs": [
    {
     "data": {
      "text/plain": [
       "<4x4 sparse matrix of type '<class 'numpy.int64'>'\n",
       "\twith 4 stored elements in COOrdinate format>"
      ]
     },
     "execution_count": 29,
     "metadata": {},
     "output_type": "execute_result"
    }
   ],
   "source": [
    "from scipy.sparse import coo_matrix\n",
    "\n",
    "\n",
    "data = np.array([4, 5, 7, 9])\n",
    "row  = np.array([0, 3, 3, 2])\n",
    "col  = np.array([0, 3, 1, 2])\n",
    "sparse_data = coo_matrix((data, (row, col)), shape=(4, 4))\n",
    "sparse_data"
   ]
  },
  {
   "cell_type": "code",
   "execution_count": 30,
   "metadata": {
    "ExecuteTime": {
     "end_time": "2020-04-05T03:25:29.269819Z",
     "start_time": "2020-04-05T03:25:29.256207Z"
    }
   },
   "outputs": [
    {
     "data": {
      "text/plain": [
       "array([[4, 0, 0, 0],\n",
       "       [0, 0, 0, 0],\n",
       "       [0, 0, 9, 0],\n",
       "       [0, 7, 0, 5]])"
      ]
     },
     "execution_count": 30,
     "metadata": {},
     "output_type": "execute_result"
    }
   ],
   "source": [
    "sparse_data.toarray()"
   ]
  },
  {
   "cell_type": "code",
   "execution_count": 31,
   "metadata": {
    "ExecuteTime": {
     "end_time": "2020-04-05T03:25:30.120612Z",
     "start_time": "2020-04-05T03:25:30.090314Z"
    }
   },
   "outputs": [
    {
     "data": {
      "text/plain": [
       "array([0, 3, 3, 2], dtype=int32)"
      ]
     },
     "execution_count": 31,
     "metadata": {},
     "output_type": "execute_result"
    }
   ],
   "source": [
    "sparse_data.row"
   ]
  },
  {
   "cell_type": "code",
   "execution_count": 32,
   "metadata": {
    "ExecuteTime": {
     "end_time": "2020-04-05T03:25:31.113950Z",
     "start_time": "2020-04-05T03:25:31.098554Z"
    }
   },
   "outputs": [
    {
     "data": {
      "text/plain": [
       "array([0, 3, 1, 2], dtype=int32)"
      ]
     },
     "execution_count": 32,
     "metadata": {},
     "output_type": "execute_result"
    }
   ],
   "source": [
    "sparse_data.col"
   ]
  },
  {
   "cell_type": "code",
   "execution_count": 33,
   "metadata": {
    "ExecuteTime": {
     "end_time": "2020-04-05T03:25:31.412181Z",
     "start_time": "2020-04-05T03:25:31.384166Z"
    }
   },
   "outputs": [
    {
     "data": {
      "text/plain": [
       "array([4, 5, 7, 9])"
      ]
     },
     "execution_count": 33,
     "metadata": {},
     "output_type": "execute_result"
    }
   ],
   "source": [
    "sparse_data.data"
   ]
  },
  {
   "cell_type": "code",
   "execution_count": 34,
   "metadata": {
    "ExecuteTime": {
     "end_time": "2020-04-05T03:25:32.195118Z",
     "start_time": "2020-04-05T03:25:32.177116Z"
    }
   },
   "outputs": [
    {
     "data": {
      "text/plain": [
       "(4, 4)"
      ]
     },
     "execution_count": 34,
     "metadata": {},
     "output_type": "execute_result"
    }
   ],
   "source": [
    "sparse_data.shape"
   ]
  },
  {
   "cell_type": "code",
   "execution_count": 35,
   "metadata": {
    "ExecuteTime": {
     "end_time": "2020-04-05T03:25:48.452721Z",
     "start_time": "2020-04-05T03:25:48.408250Z"
    }
   },
   "outputs": [
    {
     "data": {
      "text/plain": [
       "<tensorflow.python.framework.sparse_tensor.SparseTensor at 0x7fe0885e6080>"
      ]
     },
     "execution_count": 35,
     "metadata": {},
     "output_type": "execute_result"
    }
   ],
   "source": [
    "tensor = tf.sparse.reorder(tf.sparse.SparseTensor(\n",
    "    indices=[(r, c) for r, c in zip(sparse_data.row, sparse_data.col)],\n",
    "    values=sparse_data.data,\n",
    "    dense_shape=sparse_data.shape\n",
    "))\n",
    "tensor"
   ]
  },
  {
   "cell_type": "code",
   "execution_count": 36,
   "metadata": {
    "ExecuteTime": {
     "end_time": "2020-04-05T03:25:52.522188Z",
     "start_time": "2020-04-05T03:25:52.464411Z"
    }
   },
   "outputs": [
    {
     "name": "stdout",
     "output_type": "stream",
     "text": [
      "SparseTensor(indices=tf.Tensor([[0]], shape=(1, 1), dtype=int64), values=tf.Tensor([4], shape=(1,), dtype=int64), dense_shape=tf.Tensor([4], shape=(1,), dtype=int64)) \n",
      "\n",
      "SparseTensor(indices=tf.Tensor([], shape=(0, 1), dtype=int64), values=tf.Tensor([], shape=(0,), dtype=int64), dense_shape=tf.Tensor([4], shape=(1,), dtype=int64)) \n",
      "\n",
      "SparseTensor(indices=tf.Tensor([[2]], shape=(1, 1), dtype=int64), values=tf.Tensor([9], shape=(1,), dtype=int64), dense_shape=tf.Tensor([4], shape=(1,), dtype=int64)) \n",
      "\n",
      "SparseTensor(indices=tf.Tensor(\n",
      "[[1]\n",
      " [3]], shape=(2, 1), dtype=int64), values=tf.Tensor([7 5], shape=(2,), dtype=int64), dense_shape=tf.Tensor([4], shape=(1,), dtype=int64)) \n",
      "\n"
     ]
    }
   ],
   "source": [
    "sparse_ds = tf.data.Dataset.from_tensor_slices(tensor)\n",
    "for element in sparse_ds:\n",
    "    print(element, '\\n')"
   ]
  },
  {
   "cell_type": "markdown",
   "metadata": {},
   "source": [
    "*Remark*: Indices for `SparseTensor` must be in row order. Otherwise, it will raise an exception. To fix this, we wrap `tf.sparse.reorder()` around Tensor initialization. Our input to sparsed matrix is not row order."
   ]
  },
  {
   "cell_type": "markdown",
   "metadata": {},
   "source": [
    "## Dataset with Feature and Label\n",
    "\n",
    "We will load a structured data to pandas, then create dataset from this data. Next, we will check how to train the model on dataset."
   ]
  },
  {
   "cell_type": "code",
   "execution_count": 38,
   "metadata": {
    "ExecuteTime": {
     "end_time": "2020-04-05T03:27:51.760895Z",
     "start_time": "2020-04-05T03:27:50.299491Z"
    }
   },
   "outputs": [],
   "source": [
    "import pandas as pd\n",
    "\n",
    "train = pd.read_csv('https://storage.googleapis.com/tf-datasets/titanic/train.csv')\n",
    "val = pd.read_csv('https://storage.googleapis.com/tf-datasets/titanic/eval.csv')\n",
    "y_train = train.pop('survived')\n",
    "y_eval = val.pop('survived')"
   ]
  },
  {
   "cell_type": "code",
   "execution_count": 39,
   "metadata": {
    "ExecuteTime": {
     "end_time": "2020-04-05T03:27:51.818545Z",
     "start_time": "2020-04-05T03:27:51.766563Z"
    }
   },
   "outputs": [
    {
     "data": {
      "text/html": [
       "<div>\n",
       "<style scoped>\n",
       "    .dataframe tbody tr th:only-of-type {\n",
       "        vertical-align: middle;\n",
       "    }\n",
       "\n",
       "    .dataframe tbody tr th {\n",
       "        vertical-align: top;\n",
       "    }\n",
       "\n",
       "    .dataframe thead th {\n",
       "        text-align: right;\n",
       "    }\n",
       "</style>\n",
       "<table border=\"1\" class=\"dataframe\">\n",
       "  <thead>\n",
       "    <tr style=\"text-align: right;\">\n",
       "      <th></th>\n",
       "      <th>sex</th>\n",
       "      <th>age</th>\n",
       "      <th>n_siblings_spouses</th>\n",
       "      <th>parch</th>\n",
       "      <th>fare</th>\n",
       "      <th>class</th>\n",
       "      <th>deck</th>\n",
       "      <th>embark_town</th>\n",
       "      <th>alone</th>\n",
       "    </tr>\n",
       "  </thead>\n",
       "  <tbody>\n",
       "    <tr>\n",
       "      <th>0</th>\n",
       "      <td>male</td>\n",
       "      <td>22.0</td>\n",
       "      <td>1</td>\n",
       "      <td>0</td>\n",
       "      <td>7.2500</td>\n",
       "      <td>Third</td>\n",
       "      <td>unknown</td>\n",
       "      <td>Southampton</td>\n",
       "      <td>n</td>\n",
       "    </tr>\n",
       "    <tr>\n",
       "      <th>1</th>\n",
       "      <td>female</td>\n",
       "      <td>38.0</td>\n",
       "      <td>1</td>\n",
       "      <td>0</td>\n",
       "      <td>71.2833</td>\n",
       "      <td>First</td>\n",
       "      <td>C</td>\n",
       "      <td>Cherbourg</td>\n",
       "      <td>n</td>\n",
       "    </tr>\n",
       "    <tr>\n",
       "      <th>2</th>\n",
       "      <td>female</td>\n",
       "      <td>26.0</td>\n",
       "      <td>0</td>\n",
       "      <td>0</td>\n",
       "      <td>7.9250</td>\n",
       "      <td>Third</td>\n",
       "      <td>unknown</td>\n",
       "      <td>Southampton</td>\n",
       "      <td>y</td>\n",
       "    </tr>\n",
       "    <tr>\n",
       "      <th>3</th>\n",
       "      <td>female</td>\n",
       "      <td>35.0</td>\n",
       "      <td>1</td>\n",
       "      <td>0</td>\n",
       "      <td>53.1000</td>\n",
       "      <td>First</td>\n",
       "      <td>C</td>\n",
       "      <td>Southampton</td>\n",
       "      <td>n</td>\n",
       "    </tr>\n",
       "    <tr>\n",
       "      <th>4</th>\n",
       "      <td>male</td>\n",
       "      <td>28.0</td>\n",
       "      <td>0</td>\n",
       "      <td>0</td>\n",
       "      <td>8.4583</td>\n",
       "      <td>Third</td>\n",
       "      <td>unknown</td>\n",
       "      <td>Queenstown</td>\n",
       "      <td>y</td>\n",
       "    </tr>\n",
       "  </tbody>\n",
       "</table>\n",
       "</div>"
      ],
      "text/plain": [
       "      sex   age  n_siblings_spouses  parch     fare  class     deck  \\\n",
       "0    male  22.0                   1      0   7.2500  Third  unknown   \n",
       "1  female  38.0                   1      0  71.2833  First        C   \n",
       "2  female  26.0                   0      0   7.9250  Third  unknown   \n",
       "3  female  35.0                   1      0  53.1000  First        C   \n",
       "4    male  28.0                   0      0   8.4583  Third  unknown   \n",
       "\n",
       "   embark_town alone  \n",
       "0  Southampton     n  \n",
       "1    Cherbourg     n  \n",
       "2  Southampton     y  \n",
       "3  Southampton     n  \n",
       "4   Queenstown     y  "
      ]
     },
     "execution_count": 39,
     "metadata": {},
     "output_type": "execute_result"
    }
   ],
   "source": [
    "train.head()"
   ]
  },
  {
   "cell_type": "code",
   "execution_count": 40,
   "metadata": {
    "ExecuteTime": {
     "end_time": "2020-04-05T03:27:52.533461Z",
     "start_time": "2020-04-05T03:27:52.517230Z"
    }
   },
   "outputs": [
    {
     "data": {
      "text/plain": [
       "(627, 9)"
      ]
     },
     "execution_count": 40,
     "metadata": {},
     "output_type": "execute_result"
    }
   ],
   "source": [
    "train.shape"
   ]
  },
  {
   "cell_type": "code",
   "execution_count": 54,
   "metadata": {
    "ExecuteTime": {
     "end_time": "2020-04-05T03:28:59.251333Z",
     "start_time": "2020-04-05T03:28:59.235856Z"
    }
   },
   "outputs": [],
   "source": [
    "ds = tf.data.Dataset.from_tensor_slices((\n",
    "    train[['fare', 'age', 'n_siblings_spouses', 'parch']].values,\n",
    "    y_train.values))"
   ]
  },
  {
   "cell_type": "code",
   "execution_count": 55,
   "metadata": {
    "ExecuteTime": {
     "end_time": "2020-04-05T03:28:59.571286Z",
     "start_time": "2020-04-05T03:28:59.552410Z"
    }
   },
   "outputs": [
    {
     "data": {
      "text/plain": [
       "<TensorSliceDataset shapes: ((4,), ()), types: (tf.float64, tf.int64)>"
      ]
     },
     "execution_count": 55,
     "metadata": {},
     "output_type": "execute_result"
    }
   ],
   "source": [
    "ds"
   ]
  },
  {
   "cell_type": "code",
   "execution_count": 56,
   "metadata": {
    "ExecuteTime": {
     "end_time": "2020-04-05T03:28:59.867146Z",
     "start_time": "2020-04-05T03:28:59.846493Z"
    }
   },
   "outputs": [
    {
     "data": {
      "text/plain": [
       "<BatchDataset shapes: ((None, 4), (None,)), types: (tf.float64, tf.int64)>"
      ]
     },
     "execution_count": 56,
     "metadata": {},
     "output_type": "execute_result"
    }
   ],
   "source": [
    "shuffle_sz = 300\n",
    "batch_sz = 8 \n",
    "ds = ds.shuffle(shuffle_sz).batch(batch_sz)\n",
    "ds"
   ]
  },
  {
   "cell_type": "code",
   "execution_count": 57,
   "metadata": {
    "ExecuteTime": {
     "end_time": "2020-04-05T03:29:00.287993Z",
     "start_time": "2020-04-05T03:29:00.249380Z"
    }
   },
   "outputs": [
    {
     "name": "stdout",
     "output_type": "stream",
     "text": [
      "(8, 4) (8,)\n",
      "(8, 4) (8,)\n",
      "(8, 4) (8,)\n"
     ]
    }
   ],
   "source": [
    "for x, y in ds.take(3):\n",
    "    print(x.shape, y.shape)"
   ]
  },
  {
   "cell_type": "code",
   "execution_count": 58,
   "metadata": {
    "ExecuteTime": {
     "end_time": "2020-04-05T03:29:01.939303Z",
     "start_time": "2020-04-05T03:29:01.924095Z"
    }
   },
   "outputs": [
    {
     "data": {
      "text/plain": [
       "<tf.Tensor: shape=(8, 4), dtype=float64, numpy=\n",
       "array([[29.125 ,  2.    ,  4.    ,  1.    ],\n",
       "       [90.    , 44.    ,  2.    ,  0.    ],\n",
       "       [25.4667, 28.    ,  3.    ,  1.    ],\n",
       "       [ 7.8542, 28.    ,  0.    ,  0.    ],\n",
       "       [ 7.925 , 39.    ,  0.    ,  0.    ],\n",
       "       [ 7.225 , 28.    ,  0.    ,  0.    ],\n",
       "       [ 7.05  , 35.    ,  0.    ,  0.    ],\n",
       "       [14.4542, 14.5   ,  1.    ,  0.    ]])>"
      ]
     },
     "execution_count": 58,
     "metadata": {},
     "output_type": "execute_result"
    }
   ],
   "source": [
    "x"
   ]
  },
  {
   "cell_type": "code",
   "execution_count": 59,
   "metadata": {
    "ExecuteTime": {
     "end_time": "2020-04-05T03:29:07.655356Z",
     "start_time": "2020-04-05T03:29:07.642355Z"
    }
   },
   "outputs": [
    {
     "data": {
      "text/plain": [
       "<tf.Tensor: shape=(8,), dtype=int64, numpy=array([0, 0, 0, 0, 1, 1, 0, 0])>"
      ]
     },
     "execution_count": 59,
     "metadata": {},
     "output_type": "execute_result"
    }
   ],
   "source": [
    "y"
   ]
  },
  {
   "cell_type": "code",
   "execution_count": 60,
   "metadata": {
    "ExecuteTime": {
     "end_time": "2020-04-05T03:29:15.734643Z",
     "start_time": "2020-04-05T03:29:15.665563Z"
    }
   },
   "outputs": [
    {
     "name": "stdout",
     "output_type": "stream",
     "text": [
      "Model: \"model_1\"\n",
      "_________________________________________________________________\n",
      "Layer (type)                 Output Shape              Param #   \n",
      "=================================================================\n",
      "input_2 (InputLayer)         [(None, 4)]               0         \n",
      "_________________________________________________________________\n",
      "dense_3 (Dense)              (None, 4)                 20        \n",
      "_________________________________________________________________\n",
      "dense_4 (Dense)              (None, 1)                 5         \n",
      "=================================================================\n",
      "Total params: 25\n",
      "Trainable params: 25\n",
      "Non-trainable params: 0\n",
      "_________________________________________________________________\n"
     ]
    }
   ],
   "source": [
    "inputs = tf.keras.Input(shape=(4,))\n",
    "x = tf.keras.layers.Dense(4, activation='relu')(inputs)\n",
    "y = tf.keras.layers.Dense(1, activation='sigmoid')(x)\n",
    "model = tf.keras.Model(inputs=inputs, outputs=y)\n",
    "model.summary()"
   ]
  },
  {
   "cell_type": "code",
   "execution_count": 61,
   "metadata": {
    "ExecuteTime": {
     "end_time": "2020-04-05T03:29:21.330466Z",
     "start_time": "2020-04-05T03:29:18.975791Z"
    }
   },
   "outputs": [
    {
     "name": "stdout",
     "output_type": "stream",
     "text": [
      "Train for 79 steps\n",
      "Epoch 1/3\n",
      "79/79 [==============================] - 1s 14ms/step - loss: 4.6461e-08 - accuracy: 0.3876\n",
      "Epoch 2/3\n",
      "79/79 [==============================] - 0s 6ms/step - loss: 4.5840e-08 - accuracy: 0.3876\n",
      "Epoch 3/3\n",
      "79/79 [==============================] - 1s 8ms/step - loss: 4.6461e-08 - accuracy: 0.3876\n"
     ]
    },
    {
     "data": {
      "text/plain": [
       "<tensorflow.python.keras.callbacks.History at 0x7fe088159d30>"
      ]
     },
     "execution_count": 61,
     "metadata": {},
     "output_type": "execute_result"
    }
   ],
   "source": [
    "opt = tf.keras.optimizers.SGD(learning_rate=0.001)\n",
    "loss = tf.keras.losses.CategoricalCrossentropy()\n",
    "metrics = ['accuracy']\n",
    "model.compile(optimizer=opt, loss=loss, metrics=metrics)\n",
    "\n",
    "model.fit(ds, epochs=3)"
   ]
  },
  {
   "cell_type": "markdown",
   "metadata": {},
   "source": [
    "For structured data, `scikit-learn` framework or Gradient Boosting frame work work really well. However, it is not so hard to apply Deep Leaning on these problem with Keras API."
   ]
  },
  {
   "cell_type": "markdown",
   "metadata": {},
   "source": [
    "# Clean up"
   ]
  },
  {
   "cell_type": "code",
   "execution_count": 62,
   "metadata": {
    "ExecuteTime": {
     "end_time": "2020-04-05T03:29:32.339472Z",
     "start_time": "2020-04-05T03:29:31.473588Z"
    }
   },
   "outputs": [],
   "source": [
    "!rm -rf ./temp"
   ]
  }
 ],
 "metadata": {
  "hide_input": false,
  "kernelspec": {
   "display_name": "Python 3",
   "language": "python",
   "name": "python3"
  },
  "language_info": {
   "codemirror_mode": {
    "name": "ipython",
    "version": 3
   },
   "file_extension": ".py",
   "mimetype": "text/x-python",
   "name": "python",
   "nbconvert_exporter": "python",
   "pygments_lexer": "ipython3",
   "version": "3.6.10"
  },
  "toc": {
   "base_numbering": 1,
   "nav_menu": {},
   "number_sections": true,
   "sideBar": true,
   "skip_h1_title": false,
   "title_cell": "Table of Contents",
   "title_sidebar": "Contents",
   "toc_cell": false,
   "toc_position": {},
   "toc_section_display": true,
   "toc_window_display": true
  }
 },
 "nbformat": 4,
 "nbformat_minor": 4
}
